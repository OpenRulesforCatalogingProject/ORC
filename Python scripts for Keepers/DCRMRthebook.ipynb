{
 "cells": [
  {
   "cell_type": "code",
   "execution_count": 1,
   "metadata": {},
   "outputs": [],
   "source": [
    "import pymarc\n",
    "import pypandoc\n",
    "import os\n",
    "import docx"
   ]
  },
  {
   "cell_type": "code",
   "execution_count": 1,
   "metadata": {},
   "outputs": [
    {
     "name": "stdout",
     "output_type": "stream",
     "text": [
      "path\to\\directory\n"
     ]
    }
   ],
   "source": [
    "directory = 'path\\to\\directory'\n",
    "print(directory)"
   ]
  },
  {
   "cell_type": "code",
   "execution_count": null,
   "metadata": {},
   "outputs": [],
   "source": [
    "for file in os.listdir(directory):\n",
    "    if file.endswith(\".md\"):\n",
    "        output = pypandoc.convert_file(file, 'docx', outputfile= file +'.docx')\n",
    "        print(file)\n",
    "    else:\n",
    "        continue\n"
   ]
  },
  {
   "cell_type": "code",
   "execution_count": 19,
   "metadata": {},
   "outputs": [],
   "source": [
    "from docx import Document\n",
    "\n",
    "files = ['preface.md.docx', 'Background.md.docx', 'Changes-from-DCRM(B).md.docx','Future-work.md.docx', 'Acknowledgments.md.docx', \n",
    "         'Introduction.md.docx', 'General-Rules.md.docx', 'Data-provenance.md.docx', 'Prescribed-punctuation.md.docx', \n",
    "         'Language-and-script-of-the-description.md.docx', 'Transcription.md.docx', 'Title.md.docx', \n",
    "         'Title-of-manifestation.md.docx', 'Title-proper.md.docx', 'Parallel-title-proper.md.docx', \n",
    "         'Other-title-information.md.docx', 'Parallel-other-title-information.md.docx', 'Variant-title-of-manifestation.md.docx', \n",
    "         'Title-of-item.md.docx', 'Note-on-title.md.docx', 'SOR.md.docx', 'Edition.md.docx','Edition-statement.md.docx',\n",
    "         'Designation-of-edition.md.docx','Parallel-designation-of-edition.md.docx',\n",
    "         'Statement-of-responsibility-relating-to-edition.md.docx', 'Parallel-statement-of-responsibility-relating-to-edition.md.docx', \n",
    "         'Designation-of-named-revision-of-edition.md.docx', 'Parallel-designation-of-named-revision-of-edition.md.docx', \n",
    "         'Statement-of-responsibility-relating-to-named-revision-of-edition.md.docx', \n",
    "         'Parallel-statement-of-responsibility-relating-to-named-revision-of-edition.md.docx','Note-on-edition-statement.md.docx', \n",
    "         'PPDM.md.docx','Publication-statement.md.docx','Place-of-publication.md.docx','Parallel-place-of-publication.md.docx',\n",
    "         'Name-of-publisher.md.docx','Parallel-name-of-publisher.md.docx','Date-of-publication.md.docx',\n",
    "         'Note-on-publication-statement.md.docx','Distribution-statement.md.docx','Place-of-distribution.md.docx',\n",
    "         'Parallel-place-of-distribution.md.docx','Name-of-distributor.md.docx','Parallel-name-of-distributor.md.docx',\n",
    "         'Date-of-distribution.md.docx','Note-on-distribution-statement.md.docx','Manufacture-statement.md.docx',\n",
    "         'Place-of-manufacture.md.docx','Parallel-place-of-manufacture.md.docx','Name-of-manufacturer.md.docx',\n",
    "         'Parallel-name-of-manufacturer.md.docx','Date-of-manufacture.md.docx','Note-on-manufacture-statement.md.docx',\n",
    "         'Copyright-date.md.docx','Note-on-copyright-date.md.docx','Phys-desc.md.docx','Extent-of-manifestation.md.docx',\n",
    "         'Note-on-extent-of-manifestation.md.docx','Illustrative-content.md.docx','Details-of-illustrative-content.md.docx',\n",
    "         'Colour-content.md.docx','Details-of-colour-content.md.docx','Dimensions.md.docx','Note-on-dimensions-of-manifestation.md.docx',\n",
    "         'Base-material.md.docx','Details-of-base-material.md.docx','Applied-material.md.docx','Details-of-applied-material.md.docx',\n",
    "         'Production-method.md.docx','Details-of-production-method.md.docx','Layout.md.docx','Details-of-layout.md.docx',\n",
    "         'Bibliographic-format.md.docx','Details-of-bibliographic-format.md.docx','Font-size.md.docx','Details-of-font-size.md.docx',\n",
    "         'Type-of-binding.md.docx','Content-type.md.docx','Media-type.md.docx','Carrier-type.md.docx','Note-on-carrier.md.docx',\n",
    "         'Series.md.docx','Series-statement.md.docx','Title-of-series.md.docx','Parallel-title-of-series.md.docx',\n",
    "         'Other-title-information-of-series.md.docx','Parallel-other-title-information-of-series.md.docx',\n",
    "         'Statement-of-responsibility-relating-to-series.md.docx','Parallel-statement-of-responsibility-relating-to-series.md.docx',\n",
    "         'Numbering-within-sequence.md.docx','Note-on-series-statement.md.docx', 'Other-notes.md.docx', 'Note-on-RDA-entity.md.docx',\n",
    "         'Note-on-work.md.docx','Note-on-expression.md.docx','Language-of-expression.md.docx','Script.md.docx',\n",
    "         'Note-on-manifestation.md.docx','Accompanied-by-manifestation.md.docx','Dissertation-or-thesis-information.md.docx',\n",
    "         'Academic-degree.md.docx','Degree-granting-institution.md.docx','Year-degree-granted.md.docx',\n",
    "         'Manifestation-described-in.md.docx','Summarization-of-content.md.docx','Supplementary-content.md.docx',\n",
    "         'Issued-with.md.docx','Notes-on-items.md.docx','Note-on-item.md.docx','Modification-of-item.md.docx',\n",
    "         'Custodial-history-of-item.md.docx','Note-on-extent-of-item.md.docx','Note-on-dimensions-of-item.md.docx',\n",
    "         'Bound-with.md.docx','Identifiers.md.docx','Identifier-for-manifestation.md.docx','Fingerprint.md.docx',\n",
    "         'Term-of-availability.md.docx','Note-on-identifier-for-manifestation.md.docx', 'Appendices.md.docx',\n",
    "         'Appendix-a.md.docx', 'Appendix-b.md.docx','Appendix-c.md.docx','Appendix-d.md.docx','Appendix-e.md.docx',\n",
    "         'Appendix-f.md.docx','Appendix-g.md.docx','Appendix-h.md.docx','Appendix-j.md.docx','Appendix-k.md.docx']\n",
    "\n",
    "\n",
    "def combine_word_documents(files):\n",
    "    merged_document = Document()\n",
    "\n",
    "    for index, file in enumerate(files):\n",
    "        sub_doc = Document(file)\n",
    "\n",
    "        # Don't add a page break if you've reached the last file.\n",
    "        if index < len(files)-1:\n",
    "           sub_doc.add_page_break()\n",
    "\n",
    "        for element in sub_doc.element.body:\n",
    "            merged_document.element.body.append(element)\n",
    "\n",
    "    merged_document.save('merged.docx')\n",
    "\n",
    "combine_word_documents(files)"
   ]
  },
  {
   "cell_type": "code",
   "execution_count": null,
   "metadata": {},
   "outputs": [],
   "source": []
  }
 ],
 "metadata": {
  "kernelspec": {
   "display_name": "Python 3",
   "language": "python",
   "name": "python3"
  },
  "language_info": {
   "codemirror_mode": {
    "name": "ipython",
    "version": 3
   },
   "file_extension": ".py",
   "mimetype": "text/x-python",
   "name": "python",
   "nbconvert_exporter": "python",
   "pygments_lexer": "ipython3",
   "version": "3.7.6"
  }
 },
 "nbformat": 4,
 "nbformat_minor": 4
}
