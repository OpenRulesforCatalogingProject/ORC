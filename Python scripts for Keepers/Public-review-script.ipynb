{
 "cells": [
  {
   "cell_type": "code",
   "execution_count": 33,
   "metadata": {},
   "outputs": [],
   "source": [
    "import pymarc\n",
    "import pypandoc\n",
    "import os"
   ]
  },
  {
   "cell_type": "code",
   "execution_count": 34,
   "metadata": {},
   "outputs": [
    {
     "name": "stdout",
     "output_type": "stream",
     "text": [
      "C:\\Users\\kkdavis\\Desktop\\Python-ppdm-test\n"
     ]
    }
   ],
   "source": [
    "directory = 'C:\\\\Users\\\\kkdavis\\\\Desktop\\\\Python-ppdm-test'\n",
    "print(directory)"
   ]
  },
  {
   "cell_type": "code",
   "execution_count": 35,
   "metadata": {},
   "outputs": [
    {
     "name": "stdout",
     "output_type": "stream",
     "text": [
      "Copyright-date.md\n",
      "Date-of-distribution.md\n",
      "Date-of-manufacture.md\n",
      "Date-of-publication.md\n",
      "Distribution-statement.md\n",
      "Manufacture-statement.md\n",
      "Name-of-distributor.md\n",
      "Name-of-manufacturer.md\n",
      "Name-of-publisher.md\n",
      "Note-on-copyright-date.md\n",
      "Note-on-distribution-statement.md\n",
      "Note-on-manufacture-statement.md\n",
      "Note-on-publication-statement.md\n",
      "Parallel-name-of-distributor.md\n",
      "Parallel-name-of-manufacturer.md\n",
      "Parallel-name-of-publisher.md\n",
      "Parallel-place-of-distribution.md\n",
      "Parallel-place-of-manufacture.md\n",
      "Parallel-place-of-publication.md\n",
      "Place-of-distribution.md\n",
      "Place-of-manufacture.md\n",
      "Place-of-publication.md\n",
      "Ppdm.md\n",
      "Publication-statement.md\n"
     ]
    }
   ],
   "source": [
    "for file in os.listdir(directory):\n",
    "    if file.endswith(\".md\"):\n",
    "        output = pypandoc.convert_file(file, 'docx', outputfile= file +'.docx')\n",
    "        print(file)\n",
    "    else:\n",
    "        continue"
   ]
  }
 ],
 "metadata": {
  "kernelspec": {
   "display_name": "Python 3",
   "language": "python",
   "name": "python3"
  },
  "language_info": {
   "codemirror_mode": {
    "name": "ipython",
    "version": 3
   },
   "file_extension": ".py",
   "mimetype": "text/x-python",
   "name": "python",
   "nbconvert_exporter": "python",
   "pygments_lexer": "ipython3",
   "version": "3.7.6"
  }
 },
 "nbformat": 4,
 "nbformat_minor": 4
}
